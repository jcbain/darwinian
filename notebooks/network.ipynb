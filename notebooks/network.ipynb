{
 "cells": [
  {
   "cell_type": "code",
   "execution_count": 71,
   "metadata": {},
   "outputs": [],
   "source": [
    "import sys\n",
    "sys.path.append(\"..\")\n",
    "\n",
    "import tensorflow as tf\n",
    "import nltk\n",
    "import random\n",
    "import datetime\n",
    "\n",
    "from data_encoders.text_encoder import EncodingProletariat"
   ]
  },
  {
   "cell_type": "markdown",
   "metadata": {},
   "source": [
    "### Data\n",
    "Again, we are going to use Jane Austen's *Emma* as our first dataset. "
   ]
  },
  {
   "cell_type": "code",
   "execution_count": 2,
   "metadata": {},
   "outputs": [
    {
     "name": "stdout",
     "output_type": "stream",
     "text": [
      "['austen-emma.txt', 'austen-persuasion.txt', 'austen-sense.txt', 'bible-kjv.txt', 'blake-poems.txt', 'bryant-stories.txt', 'burgess-busterbrown.txt', 'carroll-alice.txt', 'chesterton-ball.txt', 'chesterton-brown.txt', 'chesterton-thursday.txt', 'edgeworth-parents.txt', 'melville-moby_dick.txt', 'milton-paradise.txt', 'shakespeare-caesar.txt', 'shakespeare-hamlet.txt', 'shakespeare-macbeth.txt', 'whitman-leaves.txt']\n"
     ]
    }
   ],
   "source": [
    "print(nltk.corpus.gutenberg.fileids())\n",
    "emma = nltk.corpus.gutenberg.words('austen-emma.txt')"
   ]
  },
  {
   "cell_type": "markdown",
   "metadata": {},
   "source": [
    "### Parameter Setting \n",
    "There are a couple parameters that will be set as variables through this notebook. These will eventually turn into class parameters"
   ]
  },
  {
   "cell_type": "code",
   "execution_count": 3,
   "metadata": {},
   "outputs": [],
   "source": [
    "num_inputs = 3    # number of input columns\n",
    "batch_size = 100  # the number of rows per batch\n"
   ]
  },
  {
   "cell_type": "markdown",
   "metadata": {},
   "source": [
    "We need to pull in the `EncodingProletariat` class as this is the data feeder of the neural network."
   ]
  },
  {
   "cell_type": "code",
   "execution_count": 6,
   "metadata": {},
   "outputs": [
    {
     "data": {
      "text/plain": [
       "array([[3310, 6605, 3207],\n",
       "       [6605, 3207, 1933],\n",
       "       [3207, 1933, 3334],\n",
       "       ...,\n",
       "       [1777, 6762, 5911],\n",
       "       [6762, 5911,  798],\n",
       "       [5911,  798, 4193]])"
      ]
     },
     "execution_count": 6,
     "metadata": {},
     "output_type": "execute_result"
    }
   ],
   "source": [
    "ep = EncodingProletariat(emma, num_inputs=num_inputs)\n",
    "ep.encodings_x"
   ]
  },
  {
   "cell_type": "markdown",
   "metadata": {},
   "source": [
    "The number of classes parameter is just the length of the entire vocabulary."
   ]
  },
  {
   "cell_type": "code",
   "execution_count": 7,
   "metadata": {},
   "outputs": [],
   "source": [
    "num_classes = len(ep.vocab_dict)"
   ]
  },
  {
   "cell_type": "markdown",
   "metadata": {},
   "source": [
    "### Building the Graph\n",
    "The next step is to start building out the graph. The `inputs` tensor is a 2-dimensional tensor of the size `batch_size` by `num_inputs`. The `targets` tensor is a 2-d tensor of the size `batch_size` by `num_classes`. You may remember that `num_classes` is the size of the vocabulary. What this will turn into is a one-hot encoded array where each target will be marked with a `1` on the index of their dictionary index and `0`s elsewhere. "
   ]
  },
  {
   "cell_type": "code",
   "execution_count": 19,
   "metadata": {},
   "outputs": [],
   "source": [
    "inputs = tf.placeholder(tf.int32, [batch_size, num_inputs], name=\"input\")\n",
    "targets = tf.placeholder(tf.float16, [batch_size, num_classes], name=\"target\")"
   ]
  },
  {
   "cell_type": "markdown",
   "metadata": {},
   "source": [
    "##### Word Embeddings\n",
    "Right now, the inputs are represented as encoded arrays where each word is represented by an number pointing to the the index of the word in a vocab dictionary (`EncodingProletariat.vocab_dict`). The next method will create embeddings for each word of the length `embed_dim` and return the embeddings."
   ]
  },
  {
   "cell_type": "code",
   "execution_count": 66,
   "metadata": {},
   "outputs": [],
   "source": [
    "def embed(inputs, batch_size, num_inputs, embed_dim, vocab_size):\n",
    "    with tf.name_scope(\"word_embeddings\"):\n",
    "        word_vectors = tf.Variable(tf.random_uniform([vocab_size, embed_dim], -1, 1, seed=datetime.datetime.now().microsecond))\n",
    "        embeddings = tf.nn.embedding_lookup(word_vectors, inputs)\n",
    "        \n",
    "    return embeddings"
   ]
  },
  {
   "cell_type": "code",
   "execution_count": 70,
   "metadata": {},
   "outputs": [
    {
     "data": {
      "text/plain": [
       "<tf.Tensor 'word_embeddings/embedding_lookup/Identity:0' shape=(100, 3, 10) dtype=float32>"
      ]
     },
     "execution_count": 70,
     "metadata": {},
     "output_type": "execute_result"
    }
   ],
   "source": [
    "embed(ep.encodings_x[0:100], batch_size=batch_size, num_inputs=num_inputs, embed_dim=10, vocab_size=num_classes)"
   ]
  },
  {
   "cell_type": "code",
   "execution_count": 74,
   "metadata": {},
   "outputs": [
    {
     "data": {
      "text/plain": [
       "<module 'tensorflow.contrib.rnn' from '/Users/jcbcnc/anaconda/lib/python3.6/site-packages/tensorflow/contrib/rnn/__init__.py'>"
      ]
     },
     "execution_count": 74,
     "metadata": {},
     "output_type": "execute_result"
    }
   ],
   "source": [
    "def build_cell(hidden_dim, num_layers, dropout):\n",
    "    cells = []\n",
    "    for _ in range(num_layers):\n",
    "        cell = tf.contrib.rnn.LSTMCell(hidden_dim)\n",
    "        dropout_cell = tf.contrib.rnn.DropoutWrapper(cell, input_keep_prob=dropout, output_keep_prob=dropout)\n",
    "        cells.append(dropout_cell)\n",
    "        cell = tf.contrib.rnn.MultiRNNCell(cells)\n",
    "        return cell"
   ]
  },
  {
   "cell_type": "code",
   "execution_count": null,
   "metadata": {},
   "outputs": [],
   "source": []
  }
 ],
 "metadata": {
  "kernelspec": {
   "display_name": "Python 3",
   "language": "python",
   "name": "python3"
  },
  "language_info": {
   "codemirror_mode": {
    "name": "ipython",
    "version": 3
   },
   "file_extension": ".py",
   "mimetype": "text/x-python",
   "name": "python",
   "nbconvert_exporter": "python",
   "pygments_lexer": "ipython3",
   "version": "3.6.6"
  }
 },
 "nbformat": 4,
 "nbformat_minor": 2
}
