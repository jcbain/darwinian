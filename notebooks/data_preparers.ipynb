{
 "cells": [
  {
   "cell_type": "code",
   "execution_count": 76,
   "metadata": {},
   "outputs": [],
   "source": [
    "import numpy as np\n",
    "import nltk\n",
    "\n",
    "from collections import Counter"
   ]
  },
  {
   "cell_type": "markdown",
   "metadata": {},
   "source": [
    "## Initial Configuration Format of Text\n",
    "The initial format, at least for workability will need to be a list of words and punctuation. Getting into this format will be the first step of configuration that the text will undergo as it is simplest when trying to create a dictionary.\n",
    "\n",
    "#### Example Text (Emma):\n",
    "Using the `nltk` library (and for simplicity's sake) we will read in Jane Austen's *Emma*, which can conveniently be loaded in as a list of words."
   ]
  },
  {
   "cell_type": "code",
   "execution_count": 17,
   "metadata": {},
   "outputs": [
    {
     "name": "stdout",
     "output_type": "stream",
     "text": [
      "['austen-emma.txt', 'austen-persuasion.txt', 'austen-sense.txt', 'bible-kjv.txt', 'blake-poems.txt', 'bryant-stories.txt', 'burgess-busterbrown.txt', 'carroll-alice.txt', 'chesterton-ball.txt', 'chesterton-brown.txt', 'chesterton-thursday.txt', 'edgeworth-parents.txt', 'melville-moby_dick.txt', 'milton-paradise.txt', 'shakespeare-caesar.txt', 'shakespeare-hamlet.txt', 'shakespeare-macbeth.txt', 'whitman-leaves.txt']\n"
     ]
    }
   ],
   "source": [
    "print(nltk.corpus.gutenberg.fileids())\n",
    "emma = nltk.corpus.gutenberg.words('austen-emma.txt')"
   ]
  },
  {
   "cell_type": "code",
   "execution_count": 39,
   "metadata": {},
   "outputs": [
    {
     "data": {
      "text/plain": [
       "['[',\n",
       " 'Emma',\n",
       " 'by',\n",
       " 'Jane',\n",
       " 'Austen',\n",
       " '1816',\n",
       " ']',\n",
       " 'VOLUME',\n",
       " 'I',\n",
       " 'CHAPTER',\n",
       " 'I',\n",
       " 'Emma',\n",
       " 'Woodhouse',\n",
       " ',',\n",
       " 'handsome',\n",
       " ',',\n",
       " 'clever',\n",
       " ',',\n",
       " 'and',\n",
       " 'rich']"
      ]
     },
     "execution_count": 39,
     "metadata": {},
     "output_type": "execute_result"
    }
   ],
   "source": [
    "# print the first 20 words/punctuations of emma\n",
    "emma[0: 20]"
   ]
  },
  {
   "cell_type": "markdown",
   "metadata": {},
   "source": [
    "### Preprocessing\n",
    "Once we have the corpus in a list, we need to provide some preprocessing options that can prepare the data for being loaded up into a neural net. Again, these are just options and could potentially improve performance. "
   ]
  },
  {
   "cell_type": "code",
   "execution_count": 54,
   "metadata": {},
   "outputs": [],
   "source": [
    "def preprocess(corpus_list, lowercase=False, stopwords_list=None):\n",
    "    \"\"\"Preprocess the Corpus List.\n",
    "    \n",
    "    Provides some simple preprocessing steps that could be beneficial for training purposes. This includes \n",
    "    an option to lowercase all words in the corpus list and to remove stopwords.\n",
    "    \n",
    "    Parameters\n",
    "    ----------\n",
    "    corpus_list: list\n",
    "        List of words in the corpus.\n",
    "        \n",
    "    lowercase: bool\n",
    "        Option to lowercase all words int he corpus_list.\n",
    "        \n",
    "    stopwords_list: list\n",
    "        List of stopwords to remove from the corpus_list.\n",
    "        \n",
    "    Returns\n",
    "    -------\n",
    "    corpus_list: list\n",
    "        The preprocessed corpus_list.\n",
    "    \"\"\"\n",
    "    \n",
    "    # lowercases words in corpus\n",
    "    if lowercase:\n",
    "        corpus_list = [w.lower() for w in corpus_list]\n",
    "    \n",
    "    # removes stopwords\n",
    "    if stopwords_list is not None:\n",
    "        corpus_list = [w for w in corpus_list if w not in stopwords_list]\n",
    "        \n",
    "    return corpus_list\n",
    "        "
   ]
  },
  {
   "cell_type": "code",
   "execution_count": 87,
   "metadata": {},
   "outputs": [],
   "source": [
    "preped = preprocess(emma[0:20], lowercase=True, stopwords_list= ['emma', 'volume'])"
   ]
  },
  {
   "cell_type": "markdown",
   "metadata": {},
   "source": [
    "### Vocabulary Dictionary\n",
    "Neural nets don't take text inputs so we need to convert the words into integers that act as key references back to the words. `create_dictionary` is this step in the process and provides a dictionary where the word acts as the key and the integer is the value."
   ]
  },
  {
   "cell_type": "code",
   "execution_count": 79,
   "metadata": {},
   "outputs": [],
   "source": [
    "def create_dictionary(preprocessed_list):\n",
    "    \"\"\"Create a Vocabulary Dictionary.\n",
    "    \n",
    "    Create a dictionary of the vocab from a list of words in a corpus. This function\n",
    "    all so provides the option to preprocess on the fly.\n",
    "    \n",
    "    Parameters\n",
    "    ----------\n",
    "    preprocessed_list: list\n",
    "        List of preprocessed words in the corpus.\n",
    "        \n",
    "    Returns\n",
    "    -------\n",
    "    vocab_dict: tuple\n",
    "        A vocabulary dictionary => {word: int} and a reverse dictionary => {int: word}.\n",
    "    \"\"\"\n",
    " \n",
    "    uniq_words = list(set(preprocessed_list))\n",
    "    word_indexes = list(range(0, len(uniq_words)))\n",
    "    \n",
    "    vocab_dict = dict(zip(uniq_words, word_indexes))\n",
    "    reverse_dict = dict(zip(word_indexes, uniq_words))\n",
    "    \n",
    "    return vocab_dict, reverse_dict\n",
    "    "
   ]
  },
  {
   "cell_type": "code",
   "execution_count": 88,
   "metadata": {},
   "outputs": [],
   "source": [
    "vocabs = create_dictionary(preped)"
   ]
  },
  {
   "cell_type": "markdown",
   "metadata": {},
   "source": [
    "### Encoding\n",
    "\n",
    "Since the neural net can't take text, it is necessary to map the text to a vector of word integers corresponding to the `vocab_dict`."
   ]
  },
  {
   "cell_type": "code",
   "execution_count": 91,
   "metadata": {},
   "outputs": [],
   "source": [
    "def encode_list(preprocessed_list, vocab_dict):\n",
    "    \"\"\"Encode Vocabulary List.\n",
    "    \n",
    "    Encodes the preprocessed text using the vocabulary dict.\n",
    "    \n",
    "    Parameters\n",
    "    ----------\n",
    "    preprocessed_list: list\n",
    "        The preprocessed words int he corpus.\n",
    "        \n",
    "    vocab_dict: dict\n",
    "        The vocabulary dict => {word: int}.\n",
    "        \n",
    "    Returns\n",
    "    -------\n",
    "    encoded_list: list\n",
    "        The encoded version of the text list.\n",
    "    \"\"\"\n",
    "    encoded_list = [vocab_dict[w] for w in preprocessed_list]\n",
    "    \n",
    "    return encoded_list"
   ]
  },
  {
   "cell_type": "code",
   "execution_count": 94,
   "metadata": {},
   "outputs": [],
   "source": [
    "encoded = encode_list(preped, vocabs[0])"
   ]
  },
  {
   "cell_type": "markdown",
   "metadata": {},
   "source": [
    "### Configure Arrays\n",
    "The next step is to configure the encoded list into a 2-dimensional array in which the number of inputs can be specified. Since the purpose of this particular application is to create text, each row represents a sequence of `n` words where the `n + 1` word is the target. The next row is then just shifted by one."
   ]
  },
  {
   "cell_type": "code",
   "execution_count": 93,
   "metadata": {},
   "outputs": [],
   "source": [
    "def configure_arrays(encoded_list, num_inputs):\n",
    "    \"\"\"Configure the Encoded Data into a 2-dimensional Array\n",
    "\n",
    "    Creates a 2-dimensional array from the encoded data of an arbitrary number of inputs. Each row \n",
    "    contains `num_inputs` + 1 values where the last value in each row represents the target value and\n",
    "    the ones previous the inputs. These are just shifting rows where the first `num_inputs` are the first \n",
    "    inputs in row 1 and then for row 2 the row shifts over by 1.\n",
    "    \n",
    "    Parameters\n",
    "    ----------\n",
    "    encoded_list: list\n",
    "        A list of encoded words.\n",
    "        \n",
    "    num_inputs: int\n",
    "        The number of input values per row.\n",
    "        \n",
    "    Returns\n",
    "    -------\n",
    "    numpy.array\n",
    "        A 2-dimensional array.\n",
    "    \"\"\"\n",
    "    config_lists = []\n",
    "    for i in range(0, len(encoded_list) - num_inputs):\n",
    "        config_lists.append(list(encoded_list[i: i + (num_inputs + 1)]))\n",
    "        \n",
    "    return np.array(config_lists)"
   ]
  },
  {
   "cell_type": "code",
   "execution_count": 98,
   "metadata": {},
   "outputs": [
    {
     "data": {
      "text/plain": [
       "array([[ 8,  7, 13,  2],\n",
       "       [ 7, 13,  2,  6],\n",
       "       [13,  2,  6,  9],\n",
       "       [ 2,  6,  9,  1],\n",
       "       [ 6,  9,  1,  0],\n",
       "       [ 9,  1,  0,  1],\n",
       "       [ 1,  0,  1,  4],\n",
       "       [ 0,  1,  4, 12],\n",
       "       [ 1,  4, 12, 11],\n",
       "       [ 4, 12, 11, 12],\n",
       "       [12, 11, 12, 10],\n",
       "       [11, 12, 10, 12],\n",
       "       [12, 10, 12,  3],\n",
       "       [10, 12,  3,  5]])"
      ]
     },
     "execution_count": 98,
     "metadata": {},
     "output_type": "execute_result"
    }
   ],
   "source": [
    "configure_arrays(encoded, 3)"
   ]
  },
  {
   "cell_type": "code",
   "execution_count": 156,
   "metadata": {},
   "outputs": [],
   "source": [
    "class Encodings(object):\n",
    "    def __init__(self, corpus_list, num_inputs, lowercase=False, stopwords_list=None):\n",
    "        self.corpus_list = corpus_list\n",
    "        self.num_inputs = num_inputs\n",
    "        self.preprocessed = self._preprocess(self.corpus_list, lowercase=lowercase, stopwords_list=None)\n",
    "        self.vocab_dict, self.reverse_dict = self._create_dictionary(self.preprocessed)\n",
    "        self.encoded_list = self._encode_list(self.preprocessed, self.vocab_dict)\n",
    "        self.encodings = self._configure_arrays(self.encoded_list, self.num_inputs)\n",
    "        \n",
    "    def _preprocess(self, corpus_list, lowercase=False, stopwords_list=None):\n",
    "        \"\"\"Preprocess the Corpus List.\n",
    "    \n",
    "        Provides some simple preprocessing steps that could be beneficial for training purposes. This includes \n",
    "        an option to lowercase all words in the corpus list and to remove stopwords.\n",
    "        \n",
    "        Parameters\n",
    "        ----------\n",
    "        corpus_list: list\n",
    "            List of words in the corpus.\n",
    "            \n",
    "        lowercase: bool\n",
    "            Option to lowercase all words int he corpus_list.\n",
    "            \n",
    "        stopwords_list: list\n",
    "            List of stopwords to remove from the corpus_list.\n",
    "            \n",
    "        Returns\n",
    "        -------\n",
    "        corpus_list: list\n",
    "            The preprocessed corpus_list.\n",
    "        \"\"\"\n",
    "    \n",
    "        # lowercases words in corpus\n",
    "        if lowercase:\n",
    "            corpus_list = [w.lower() for w in corpus_list]\n",
    "        \n",
    "        # removes stopwords\n",
    "        if stopwords_list is not None:\n",
    "            corpus_list = [w for w in corpus_list if w not in stopwords_list]\n",
    "            \n",
    "        return corpus_list\n",
    "    \n",
    "    def _create_dictionary(self ,preprocessed_list):\n",
    "        \"\"\"Create a Vocabulary Dictionary.\n",
    "        \n",
    "        Create a dictionary of the vocab from a list of words in a corpus. This function\n",
    "        all so provides the option to preprocess on the fly.\n",
    "        \n",
    "        Parameters\n",
    "        ----------\n",
    "        preprocessed_list: list\n",
    "            List of preprocessed words in the corpus.\n",
    "            \n",
    "        Returns\n",
    "        -------\n",
    "        vocab_dict: tuple\n",
    "            A vocabulary dictionary => {word: int} and a reverse dictionary => {int: word}.\n",
    "        \"\"\"\n",
    "     \n",
    "        uniq_words = list(set(preprocessed_list))\n",
    "        word_indexes = list(range(0, len(uniq_words)))\n",
    "        \n",
    "        vocab_dict = dict(zip(uniq_words, word_indexes))\n",
    "        reverse_dict = dict(zip(word_indexes, uniq_words))\n",
    "        \n",
    "        return vocab_dict, reverse_dict\n",
    "    \n",
    "    def _encode_list(self, preprocessed_list, vocab_dict):\n",
    "        \"\"\"Encode Vocabulary List.\n",
    "        \n",
    "        Encodes the preprocessed text using the vocabulary dict.\n",
    "        \n",
    "        Parameters\n",
    "        ----------\n",
    "        preprocessed_list: list\n",
    "            The preprocessed words int he corpus.\n",
    "            \n",
    "        vocab_dict: dict\n",
    "            The vocabulary dict => {word: int}.\n",
    "            \n",
    "        Returns\n",
    "        -------\n",
    "        encoded_list: list\n",
    "            The encoded version of the text list.\n",
    "        \"\"\"\n",
    "        encoded_list = [vocab_dict[w] for w in preprocessed_list]\n",
    "        \n",
    "        return encoded_list\n",
    "    \n",
    "    def _configure_arrays(self, encoded_list, num_inputs):\n",
    "        \"\"\"Configure the Encoded Data into a 2-dimensional Array\n",
    "    \n",
    "        Creates a 2-dimensional array from the encoded data of an arbitrary number of inputs. Each row \n",
    "        contains `num_inputs` + 1 values where the last value in each row represents the target value and\n",
    "        the ones previous the inputs. These are just shifting rows where the first `num_inputs` are the first \n",
    "        inputs in row 1 and then for row 2 the row shifts over by 1.\n",
    "        \n",
    "        Parameters\n",
    "        ----------\n",
    "        encoded_list: list\n",
    "            A list of encoded words.\n",
    "            \n",
    "        num_inputs: int\n",
    "            The number of input values per row.\n",
    "            \n",
    "        Returns\n",
    "        -------\n",
    "        numpy.array\n",
    "            A 2-dimensional array.\n",
    "        \"\"\"\n",
    "        config_lists = []\n",
    "        for i in range(0, len(encoded_list) - num_inputs):\n",
    "            config_lists.append(list(encoded_list[i: i + (num_inputs + 1)]))\n",
    "            \n",
    "        return np.array(config_lists)\n",
    "            "
   ]
  },
  {
   "cell_type": "code",
   "execution_count": 159,
   "metadata": {},
   "outputs": [
    {
     "data": {
      "text/plain": [
       "array([[ 9, 11,  7],\n",
       "       [11,  7, 15],\n",
       "       [ 7, 15,  2],\n",
       "       [15,  2,  6],\n",
       "       [ 2,  6, 10],\n",
       "       [ 6, 10,  8],\n",
       "       [10,  8,  1],\n",
       "       [ 8,  1,  0],\n",
       "       [ 1,  0,  1],\n",
       "       [ 0,  1, 11],\n",
       "       [ 1, 11,  4],\n",
       "       [11,  4, 14],\n",
       "       [ 4, 14, 13],\n",
       "       [14, 13, 14],\n",
       "       [13, 14, 12],\n",
       "       [14, 12, 14],\n",
       "       [12, 14,  3],\n",
       "       [14,  3,  5]])"
      ]
     },
     "execution_count": 159,
     "metadata": {},
     "output_type": "execute_result"
    }
   ],
   "source": [
    "e = Encodings(emma[0:20], num_inputs=2, lowercase=True, stopwords_list=['chapter'])\n",
    "e.encodings"
   ]
  },
  {
   "cell_type": "markdown",
   "metadata": {},
   "source": [
    "The next bit of information is simply just a print message to keep track of epochs."
   ]
  },
  {
   "cell_type": "code",
   "execution_count": 129,
   "metadata": {},
   "outputs": [
    {
     "name": "stdout",
     "output_type": "stream",
     "text": [
      "       ________\n",
      "{\\__/}||E: 10  |\n",
      "(• ,•)||_______|\n",
      "/ > />||\n"
     ]
    }
   ],
   "source": [
    "print(\"       ________\\n{\\\\__/}||E: 10  |\\n(• ,•)||_______|\\n/ > />||\")"
   ]
  },
  {
   "cell_type": "code",
   "execution_count": null,
   "metadata": {},
   "outputs": [],
   "source": []
  }
 ],
 "metadata": {
  "kernelspec": {
   "display_name": "Python 3",
   "language": "python",
   "name": "python3"
  },
  "language_info": {
   "codemirror_mode": {
    "name": "ipython",
    "version": 3
   },
   "file_extension": ".py",
   "mimetype": "text/x-python",
   "name": "python",
   "nbconvert_exporter": "python",
   "pygments_lexer": "ipython3",
   "version": "3.6.6"
  }
 },
 "nbformat": 4,
 "nbformat_minor": 2
}
